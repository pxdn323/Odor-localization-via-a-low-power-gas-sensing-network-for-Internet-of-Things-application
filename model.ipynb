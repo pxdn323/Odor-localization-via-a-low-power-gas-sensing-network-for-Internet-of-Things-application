{
 "cells": [
  {
   "cell_type": "code",
   "execution_count": 1,
   "id": "7d5745f9",
   "metadata": {},
   "outputs": [],
   "source": [
    "import joblib\n",
    "import sklearn\n",
    "from sklearn.ensemble import BaggingRegressor"
   ]
  },
  {
   "cell_type": "code",
   "execution_count": 6,
   "id": "aaa99b22",
   "metadata": {},
   "outputs": [],
   "source": [
    "def predict(region,input_data): #input_data[[sensor1,time1],[sensor2,time2],[sensor3,time3]]\n",
    "    # load model\n",
    "    if region == 25:\n",
    "        Bagged_region = joblib.load('Bagged_region_25.model')\n",
    "    else:\n",
    "        Bagged_region = joblib.load('Bagged_region_4.model')\n",
    "    \n",
    "    data = [[input_data[0][0],input_data[1][0],input_data[2][0]]]\n",
    "    Region = Bagged_region.predict(data)\n",
    "    \n",
    "    output_data = int(Region)\n",
    "\n",
    "    return output_data"
   ]
  },
  {
   "cell_type": "code",
   "execution_count": 7,
   "id": "f7a9d985",
   "metadata": {},
   "outputs": [
    {
     "data": {
      "text/plain": [
       "3"
      ]
     },
     "execution_count": 7,
     "metadata": {},
     "output_type": "execute_result"
    }
   ],
   "source": [
    "predict(25,[[100,1],[100,1],[0,1]])"
   ]
  },
  {
   "cell_type": "code",
   "execution_count": null,
   "id": "2177e0e9",
   "metadata": {},
   "outputs": [],
   "source": []
  },
  {
   "cell_type": "code",
   "execution_count": null,
   "id": "cbd433ab",
   "metadata": {},
   "outputs": [],
   "source": []
  }
 ],
 "metadata": {
  "kernelspec": {
   "display_name": "Python 3",
   "language": "python",
   "name": "python3"
  },
  "language_info": {
   "codemirror_mode": {
    "name": "ipython",
    "version": 3
   },
   "file_extension": ".py",
   "mimetype": "text/x-python",
   "name": "python",
   "nbconvert_exporter": "python",
   "pygments_lexer": "ipython3",
   "version": "3.8.8"
  }
 },
 "nbformat": 4,
 "nbformat_minor": 5
}
