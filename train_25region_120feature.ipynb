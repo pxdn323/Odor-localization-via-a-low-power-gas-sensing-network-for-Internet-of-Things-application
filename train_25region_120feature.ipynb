{
 "cells": [
  {
   "cell_type": "code",
   "execution_count": 19,
   "id": "d1fc4977",
   "metadata": {},
   "outputs": [],
   "source": [
    "import pandas as pd\n",
    "import numpy as np\n",
    "from sklearn.model_selection import train_test_split\n",
    "import sklearn\n",
    "from sklearn.ensemble import BaggingRegressor\n",
    "from sklearn.ensemble import BaggingClassifier\n",
    "import matplotlib.pyplot as plt\n",
    "from matplotlib.pyplot import figure\n",
    "import math\n"
   ]
  },
  {
   "cell_type": "code",
   "execution_count": 20,
   "id": "e28840a4",
   "metadata": {},
   "outputs": [],
   "source": [
    "file = pd.read_csv('all_3.csv',header = None)\n",
    "feature_names = ['sensor1',\n",
    "                      'd1max1','d1min1','d1avg1','d1median1','1peak_values1','1peak_times1','1prominence1','d1var1',\n",
    "                      'd1max2','d1min2','d1avg2','d1median2','1peak_values2','1peak_times2','1prominence2','d1var2',\n",
    "                      'd1max3','d1min3','d1avg3','d1median3','1peak_values3','1peak_times3','1prominence3','d1var3',\n",
    "                      'd1max4','d1min4','d1avg4','d1median4','1peak_values4','1peak_times4','1prominence4','d1var4',\n",
    "                  'sensor2',\n",
    "                      'd2max1','d2min1','d2avg1','d2median1','2peak_values1','2peak_times1','2prominence1','d2var1',\n",
    "                      'd2max2','d2min2','d2avg2','d2median2','2peak_values2','2peak_times2','2prominence2','d2var2',\n",
    "                      'd2max3','d2min3','d2avg3','d2median3','2peak_values3','2peak_times3','2prominence3','d2var3',\n",
    "                      'd2max4','d2min4','d2avg4','d2median4','2peak_values4','2peak_times4','2prominence4','d2var4',\n",
    "                  'sensor3',\n",
    "                      'd3max1','d3min1','d3avg1','d3median1','3peak_values1','3peak_times1','3prominence1','d3var1',\n",
    "                      'd3max2','d3min2','d3avg2','d3median2','3peak_values2','3peak_times2','3prominence2','d3var2',\n",
    "                      'd3max3','d3min3','d3avg3','d3median3','3peak_values3','3peak_times3','3prominence3','d3var3',\n",
    "                      'd3max4','d3min4','d3avg4','d3median4','3peak_values4','3peak_times4','3prominence4','d3var4',\n",
    "                      'Region','Location_x','Location_y',\n",
    "                  'compare_avg_ab1','compare_avg_bc1','compare_avg_ca1',\n",
    "                  'compare_avg_ab2','compare_avg_bc2','compare_avg_ca2',\n",
    "                  'compare_avg_ab3','compare_avg_bc3','compare_avg_ca3',\n",
    "                  'compare_avg_ab4','compare_avg_bc4','compare_avg_ca4',\n",
    "                  'compare_max_ab1','compare_max_bc1','compare_max_ca1',\n",
    "                  'compare_max_ab2','compare_max_bc2','compare_max_ca2',\n",
    "                  'compare_max_ab3','compare_max_bc3','compare_max_ca3',\n",
    "                  'compare_max_ab4','compare_max_bc4','compare_max_ca4']\n",
    "file.columns = feature_names"
   ]
  },
  {
   "cell_type": "code",
   "execution_count": 21,
   "id": "4ac39238",
   "metadata": {},
   "outputs": [],
   "source": [
    "Y_region = file['Region'].str.split(' ',n = 1, expand = True)[1].values\n",
    "Y_region = [int(i) for i in Y_region]\n",
    "Y_y = file['Location_y'].values\n",
    "Y_x = file['Location_x'].values\n",
    "X = file[[ 'd1max1','d1min1','d1avg1','d1median1','1peak_values1','1peak_times1','1prominence1','d1var1',\n",
    "           'd1max2','d1min2','d1avg2','d1median2','1peak_values2','1peak_times2','1prominence2','d1var2',\n",
    "           'd1max3','d1min3','d1avg3','d1median3','1peak_values3','1peak_times3','1prominence3','d1var3',\n",
    "           'd1max4','d1min4','d1avg4','d1median4','1peak_values4','1peak_times4','1prominence4','d1var4',\n",
    "           'd2max1','d2min1','d2avg1','d2median1','2peak_values1','2peak_times1','2prominence1','d2var1',\n",
    "           'd2max2','d2min2','d2avg2','d2median2','2peak_values2','2peak_times2','2prominence2','d2var2',\n",
    "           'd2max3','d2min3','d2avg3','d2median3','2peak_values3','2peak_times3','2prominence3','d2var3',\n",
    "           'd2max4','d2min4','d2avg4','d2median4','2peak_values4','2peak_times4','2prominence4','d2var4',\n",
    "           'd3max1','d3min1','d3avg1','d3median1','3peak_values1','3peak_times1','3prominence1','d3var1',\n",
    "           'd3max2','d3min2','d3avg2','d3median2','3peak_values2','3peak_times2','3prominence2','d3var2',\n",
    "           'd3max3','d3min3','d3avg3','d3median3','3peak_values3','3peak_times3','3prominence3','d3var3',\n",
    "           'd3max4','d3min4','d3avg4','d3median4','3peak_values4','3peak_times4','3prominence4','d3var4',\n",
    "           'compare_avg_ab1','compare_avg_bc1','compare_avg_ca1',\n",
    "           'compare_avg_ab2','compare_avg_bc2','compare_avg_ca2',\n",
    "           'compare_avg_ab3','compare_avg_bc3','compare_avg_ca3',\n",
    "           'compare_avg_ab4','compare_avg_bc4','compare_avg_ca4',\n",
    "           'compare_max_ab1','compare_max_bc1','compare_max_ca1',\n",
    "           'compare_max_ab2','compare_max_bc2','compare_max_ca2',\n",
    "           'compare_max_ab3','compare_max_bc3','compare_max_ca3',\n",
    "           'compare_max_ab4','compare_max_bc4','compare_max_ca4']].values\n",
    "\n",
    "\n",
    "Y_xy = []\n",
    "for i in range(0,len(Y_x)):\n",
    "    Y_xy.append([Y_x[i],Y_y[i]])\n",
    "(X_train,X_test,Y_region_train,Y_region_test,Y_y_train,Y_y_test,Y_x_train,Y_x_test,Y_xy_train,Y_xy_test)=train_test_split(X, Y_region, Y_y, Y_x, Y_xy, test_size=0.3)   \n"
   ]
  },
  {
   "cell_type": "code",
   "execution_count": 22,
   "id": "bd1c4669",
   "metadata": {
    "scrolled": false
   },
   "outputs": [
    {
     "data": {
      "image/png": "[encoded data removed]",
      "text/plain": [
       "<Figure size 432x288 with 1 Axes>"
      ]
     },
     "metadata": {},
     "output_type": "display_data"
    },
    {
     "data": {
      "image/png": "[encoded data removed]",
      "text/plain": [
       "<Figure size 432x288 with 1 Axes>"
      ]
     },
     "metadata": {
      "needs_background": "light"
     },
     "output_type": "display_data"
    }
   ],
   "source": [
    "\n",
    "num_estimators =100 #[10,20,30,40,50,60,70,80,90,100,110,120]\n",
    "num_features = 50 #[10,20,30,40,50,60,70,80,90,100,110,120]\n",
    "\n",
    "Bagged_region = BaggingClassifier(n_estimators=num_estimators ,max_features=num_features,  warm_start=False, random_state=0)\n",
    "Bagged_region.fit(X_train, Y_region_train)\n",
    "Bagged_x = BaggingRegressor( n_estimators=num_estimators ,max_features=num_features,  warm_start=False, random_state=0)\n",
    "Bagged_x.fit(X_train, Y_x_train)\n",
    "Bagged_y = BaggingRegressor( n_estimators=num_estimators , max_features=num_features,  warm_start=False, random_state=0)\n",
    "Bagged_y.fit(X_train, Y_y_train)\n",
    "\n",
    "Y_region_pred_test = Bagged_region.predict(X_test)\n",
    "Y_region_pred_test= [int (i) for i in Y_region_pred_test]\n",
    "Y_x_pred_test = Bagged_x.predict(X_test)\n",
    "Y_x_pred_test= [int (i)//10*10 for i in Y_x_pred_test]\n",
    "Y_y_pred_test = Bagged_y.predict(X_test)\n",
    "Y_y_pred_test= [int (i)//10*10 for i in Y_y_pred_test]\n",
    "\n",
    "\n",
    "\n",
    "Y_region_pred_train = Bagged_region.predict(X_train)\n",
    "Y_region_pred_train= [int (i) for i in Y_region_pred_train]\n",
    "Y_x_pred_train = Bagged_x.predict(X_train)\n",
    "Y_x_pred_train= [int (i)//10*10 for i in Y_x_pred_train]\n",
    "Y_y_pred_train = Bagged_y.predict(X_train)\n",
    "Y_y_pred_train= [int (i)//10*10 for i in Y_y_pred_train]\n",
    "\n",
    "plt.subplot(1, 2, 1)\n",
    "plt.scatter(Y_x_pred_test, Y_y_pred_test,cmap=plt.cm.Set1,edgecolor='k')\n",
    "plt.scatter(Y_x_test, Y_y_test,cmap=plt.cm.Set2,edgecolor='r')\n",
    "plt.xticks(())\n",
    "plt.yticks(())\n",
    "plt.show()\n",
    "\n",
    "plt.subplot(1, 2, 2)\n",
    "num = [i for i in range(1,len(Y_region_pred_test)+1)]\n",
    "plt.scatter(num,Y_region_pred_test,edgecolor='k')\n",
    "plt.scatter(num,Y_region_test,edgecolor='r')\n",
    "\n",
    "\n",
    "\n",
    "Bagged_xy = BaggingRegressor( n_estimators=num_estimators , max_features=num_features,  warm_start=False, random_state=0)\n",
    "Bagged_xy.fit(X_train, Y_xy_train)\n",
    "Y_xy_pred_test = Bagged_xy.predict(X_test)\n",
    "Y_xy_pred_train = Bagged_xy.predict(X_train)\n",
    "for i in range(0,len(Y_xy_pred_test)):\n",
    "    Y_xy_pred_test[i][0] = int(Y_xy_pred_test[i][0])\n",
    "    Y_xy_pred_test[i][1] = int(Y_xy_pred_test[i][1])\n",
    "    "
   ]
  },
  {
   "cell_type": "code",
   "execution_count": 23,
   "id": "8e7b1021",
   "metadata": {},
   "outputs": [
    {
     "name": "stdout",
     "output_type": "stream",
     "text": [
      "X_Y TEST Accuracy is 49.02 % in threshold 40\n",
      "X_Y TEST RSME is  49.80599617417526\n"
     ]
    }
   ],
   "source": [
    "#x and y\n",
    "thre_test = 40\n",
    "accuracy_test = 0\n",
    "rsme_test = 0\n",
    "for i in range(0,len(Y_x_pred_test)):\n",
    "    rsme_test += (Y_x_pred_test[i]-Y_x_test[i])*(Y_x_pred_test[i]-Y_x_test[i]) + (Y_y_pred_test[i]-Y_y_test[i])*(Y_y_pred_test[i]-Y_y_test[i])\n",
    "    if abs(Y_x_pred_test[i]-Y_x_test[i]) <= thre_test and abs(Y_y_pred_test[i]-Y_y_test[i]) <= thre_test:\n",
    "        accuracy_test += 1\n",
    "accuracy_test = accuracy_test/len(Y_x_pred_test)*100\n",
    "rsme_test = math.sqrt(rsme_test / len(Y_x_pred_test) / 2)\n",
    "print(\"X_Y TEST Accuracy is %.2f\"%accuracy_test, \"% in threshold\",thre_test)\n",
    "print(\"X_Y TEST RSME is \",rsme_test)\n",
    "        \n",
    "        "
   ]
  },
  {
   "cell_type": "code",
   "execution_count": 24,
   "id": "99a4d360",
   "metadata": {},
   "outputs": [
    {
     "name": "stdout",
     "output_type": "stream",
     "text": [
      "XY TEST Accuracy is 37.25 % in threshold 40\n",
      "XY TEST RSME is  49.48905602925425\n"
     ]
    }
   ],
   "source": [
    "#xy\n",
    "thre_test = 40\n",
    "accuracy_test = 0\n",
    "rsme_test = 0\n",
    "for i in range(0,len(Y_xy_pred_test)):\n",
    "    rsme_test += (Y_xy_pred_test[i][0]-Y_xy_test[i][0])*(Y_xy_pred_test[i][0]-Y_xy_test[i][0]) + (Y_xy_pred_test[i][1]-Y_xy_test[i][1])*(Y_xy_pred_test[i][1]-Y_xy_test[i][1])\n",
    "    if abs(Y_xy_pred_test[i][0]-Y_xy_test[i][0]) <= thre_test and abs(Y_xy_pred_test[i][1]-Y_xy_test[i][1]) <= thre_test:\n",
    "        accuracy_test += 1\n",
    "accuracy_test = accuracy_test/len(Y_x_pred_test)*100\n",
    "rsme_test = math.sqrt(rsme_test / len(Y_x_pred_test) / 2)\n",
    "print(\"XY TEST Accuracy is %.2f\"%accuracy_test, \"% in threshold\",thre_test)\n",
    "print(\"XY TEST RSME is \",rsme_test)"
   ]
  },
  {
   "cell_type": "code",
   "execution_count": 25,
   "id": "9f0f331e",
   "metadata": {},
   "outputs": [
    {
     "name": "stdout",
     "output_type": "stream",
     "text": [
      "X_Y TRAIN Accuracy is 99.15 % in threshold 40\n",
      "X_Y TRAIN RSME is  19.075759890096524\n"
     ]
    }
   ],
   "source": [
    "#x and y\n",
    "thre_train = 40\n",
    "accuracy_train = 0\n",
    "rsme_train = 0\n",
    "for i in range(0,len(Y_x_pred_train)):\n",
    "    rsme_train += (Y_x_pred_train[i]-Y_x_train[i])*(Y_x_pred_train[i]-Y_x_train[i]) + (Y_y_pred_train[i]-Y_y_train[i])*(Y_y_pred_train[i]-Y_y_train[i])\n",
    "    if abs(Y_x_pred_train[i]-Y_x_train[i]) <= thre_train and abs(Y_y_pred_train[i]-Y_y_train[i]) <= thre_train:\n",
    "        accuracy_train += 1\n",
    "accuracy_train = accuracy_train/len(Y_x_pred_train)*100\n",
    "rsme_train = math.sqrt(rsme_train / len(Y_x_pred_train) / 2)\n",
    "print(\"X_Y TRAIN Accuracy is %.2f\"%accuracy_train, \"% in threshold\",thre_train)\n",
    "print(\"X_Y TRAIN RSME is \",rsme_train)\n",
    "        "
   ]
  },
  {
   "cell_type": "code",
   "execution_count": 26,
   "id": "13f351de",
   "metadata": {},
   "outputs": [
    {
     "name": "stdout",
     "output_type": "stream",
     "text": [
      "XY TRAIN Accuracy is 94.02 % in threshold 40\n",
      "XY TRAIN RSME is  18.459161195766242\n"
     ]
    }
   ],
   "source": [
    "# xy\n",
    "thre_train = 40\n",
    "accuracy_train = 0\n",
    "rsme_train = 0\n",
    "for i in range(0,len(Y_xy_pred_train)):\n",
    "    rsme_train += (Y_xy_pred_train[i][0]-Y_xy_train[i][0])*(Y_xy_pred_train[i][0]-Y_xy_train[i][0]) + (Y_xy_pred_train[i][1]-Y_xy_train[i][1])*(Y_xy_pred_train[i][1]-Y_xy_train[i][1])\n",
    "    if abs(Y_xy_pred_train[i][0]-Y_xy_train[i][0]) <= thre_train and abs(Y_xy_pred_train[i][1]-Y_xy_train[i][1]) <= thre_train:\n",
    "        accuracy_train += 1\n",
    "accuracy_train = accuracy_train/len(Y_x_pred_train)*100\n",
    "rsme_train = math.sqrt(rsme_train / len(Y_x_pred_train) / 2)\n",
    "print(\"XY TRAIN Accuracy is %.2f\"%accuracy_train, \"% in threshold\",thre_train)\n",
    "print(\"XY TRAIN RSME is \",rsme_train)\n",
    "        "
   ]
  },
  {
   "cell_type": "code",
   "execution_count": 27,
   "id": "82899752",
   "metadata": {},
   "outputs": [
    {
     "name": "stdout",
     "output_type": "stream",
     "text": [
      "Region TRAIN Accuracy is 100.00 %\n",
      "Region TEST Accuracy is 23.53 %\n"
     ]
    }
   ],
   "source": [
    "accuracy_test = 0\n",
    "accuracy_train = 0\n",
    "\n",
    "for i in range(0,len(Y_region_pred_train)):\n",
    "    if Y_region_pred_train[i] == Y_region_train[i]:\n",
    "        accuracy_train += 1\n",
    "accuracy_train = accuracy_train/len(Y_region_pred_train)*100\n",
    "\n",
    "for i in range(0,len(Y_region_pred_test)):\n",
    "    if Y_region_pred_test[i] == Y_region_test[i]:\n",
    "        accuracy_test += 1\n",
    "accuracy_test = accuracy_test/len(Y_region_pred_test)*100\n",
    "\n",
    "print(\"Region TRAIN Accuracy is %.2f\"%accuracy_train, \"%\")\n",
    "print(\"Region TEST Accuracy is %.2f\"%accuracy_test, \"%\")"
   ]
  },
  {
   "cell_type": "code",
   "execution_count": null,
   "id": "59160adf",
   "metadata": {},
   "outputs": [],
   "source": []
  },
  {
   "cell_type": "code",
   "execution_count": null,
   "id": "79084885",
   "metadata": {},
   "outputs": [],
   "source": []
  },
  {
   "cell_type": "code",
   "execution_count": null,
   "id": "3952ebb0",
   "metadata": {},
   "outputs": [],
   "source": []
  },
  {
   "cell_type": "code",
   "execution_count": null,
   "id": "b5d95ae4",
   "metadata": {},
   "outputs": [],
   "source": []
  },
  {
   "cell_type": "code",
   "execution_count": null,
   "id": "ad796148",
   "metadata": {},
   "outputs": [],
   "source": []
  },
  {
   "cell_type": "code",
   "execution_count": null,
   "id": "0ec591c8",
   "metadata": {},
   "outputs": [],
   "source": []
  },
  {
   "cell_type": "code",
   "execution_count": null,
   "id": "c5672212",
   "metadata": {},
   "outputs": [],
   "source": []
  }
 ],
 "metadata": {
  "kernelspec": {
   "display_name": "Python 3",
   "language": "python",
   "name": "python3"
  },
  "language_info": {
   "codemirror_mode": {
    "name": "ipython",
    "version": 3
   },
   "file_extension": ".py",
   "mimetype": "text/x-python",
   "name": "python",
   "nbconvert_exporter": "python",
   "pygments_lexer": "ipython3",
   "version": "3.8.8"
  }
 },
 "nbformat": 4,
 "nbformat_minor": 5
}
