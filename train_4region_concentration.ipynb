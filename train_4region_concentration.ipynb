{
 "cells": [
  {
   "cell_type": "code",
   "execution_count": 33,
   "id": "e660d250",
   "metadata": {},
   "outputs": [],
   "source": [
    "import pandas as pd\n",
    "import numpy as np\n",
    "from sklearn.model_selection import train_test_split\n",
    "import sklearn\n",
    "from sklearn.ensemble import BaggingRegressor\n",
    "from sklearn.ensemble import BaggingClassifier\n",
    "import matplotlib.pyplot as plt\n",
    "from matplotlib.pyplot import figure\n",
    "import math\n"
   ]
  },
  {
   "cell_type": "code",
   "execution_count": 34,
   "id": "c8259629",
   "metadata": {},
   "outputs": [],
   "source": [
    "file = pd.read_csv('con_1.csv',header = None)\n",
    "feature_names = ['sensor1','sensor2','sensor3','Region','Location_x','Location_y','time']\n",
    "file.columns = feature_names"
   ]
  },
  {
   "cell_type": "code",
   "execution_count": 35,
   "id": "fec3e17e",
   "metadata": {},
   "outputs": [],
   "source": [
    "Y_region = file['Region']\n",
    "Y_region = [int(i) for i in Y_region]\n",
    "Y_y = file['Location_y'].values\n",
    "Y_x = file['Location_x'].values\n",
    "X = file[['sensor1','sensor2','sensor3']].values\n",
    "\n",
    "##devide to four regions\n",
    "y_region = []\n",
    "for i in range (0,len(Y_y)):\n",
    "    if Y_x[i] <= 115 and Y_y[i]<=115:\n",
    "        y_region.append(0)\n",
    "    if Y_x[i] <= 115 and Y_y[i]>115:\n",
    "        y_region.append(1)\n",
    "    if Y_x[i] > 115 and Y_y[i]<=115:\n",
    "        y_region.append(2)\n",
    "    if Y_x[i] > 115 and Y_y[i]>115:\n",
    "        y_region.append(3)\n",
    "Y_region = y_region\n",
    "\n",
    "Y_xy = []\n",
    "for i in range(0,len(Y_x)):\n",
    "    Y_xy.append([Y_x[i],Y_y[i]])\n",
    "(X_train,X_test,Y_region_train,Y_region_test,Y_y_train,Y_y_test,Y_x_train,Y_x_test,Y_xy_train,Y_xy_test)=train_test_split(X, Y_region, Y_y, Y_x, Y_xy, test_size=0.3)   \n"
   ]
  },
  {
   "cell_type": "code",
   "execution_count": 36,
   "id": "cddd8f5d",
   "metadata": {},
   "outputs": [
    {
     "data": {
      "image/png": "[encoded data removed]",
      "text/plain": [
       "<Figure size 432x288 with 1 Axes>"
      ]
     },
     "metadata": {},
     "output_type": "display_data"
    },
    {
     "data": {
      "image/png": "[encoded data removed]",
      "text/plain": [
       "<Figure size 432x288 with 1 Axes>"
      ]
     },
     "metadata": {
      "needs_background": "light"
     },
     "output_type": "display_data"
    }
   ],
   "source": [
    "num_estimators =100 \n",
    "num_features = 3 \n",
    "\n",
    "Bagged_region = BaggingClassifier(n_estimators=num_estimators ,max_features=num_features,  warm_start=False, random_state=0)\n",
    "Bagged_region.fit(X_train, Y_region_train)\n",
    "Bagged_x = BaggingRegressor( n_estimators=num_estimators ,max_features=num_features,  warm_start=False, random_state=0)\n",
    "Bagged_x.fit(X_train, Y_x_train)\n",
    "Bagged_y = BaggingRegressor( n_estimators=num_estimators , max_features=num_features,  warm_start=False, random_state=0)\n",
    "Bagged_y.fit(X_train, Y_y_train)\n",
    "\n",
    "Y_region_pred_test = Bagged_region.predict(X_test)\n",
    "Y_region_pred_test= [int (i) for i in Y_region_pred_test]\n",
    "Y_x_pred_test = Bagged_x.predict(X_test)\n",
    "Y_x_pred_test= [int (i)//10*10 for i in Y_x_pred_test]\n",
    "Y_y_pred_test = Bagged_y.predict(X_test)\n",
    "Y_y_pred_test= [int (i)//10*10 for i in Y_y_pred_test]\n",
    "\n",
    "\n",
    "Y_region_pred_train = Bagged_region.predict(X_train)\n",
    "Y_region_pred_train= [int (i) for i in Y_region_pred_train]\n",
    "Y_x_pred_train = Bagged_x.predict(X_train)\n",
    "Y_x_pred_train= [int (i)//10*10 for i in Y_x_pred_train]\n",
    "Y_y_pred_train = Bagged_y.predict(X_train)\n",
    "Y_y_pred_train= [int (i)//10*10 for i in Y_y_pred_train]\n",
    "\n",
    "plt.subplot(1, 2, 1)\n",
    "plt.scatter(Y_x_pred_test, Y_y_pred_test,cmap=plt.cm.Set1,edgecolor='k')\n",
    "plt.scatter(Y_x_test, Y_y_test,cmap=plt.cm.Set2,edgecolor='r')\n",
    "plt.xticks(())\n",
    "plt.yticks(())\n",
    "plt.show()\n",
    "\n",
    "plt.subplot(1, 2, 2)\n",
    "num = [i for i in range(1,len(Y_region_pred_test)+1)]\n",
    "plt.scatter(num,Y_region_pred_test,edgecolor='k')\n",
    "plt.scatter(num,Y_region_test,edgecolor='r')\n",
    "\n",
    "\n",
    "\n",
    "Bagged_xy = BaggingRegressor( n_estimators=num_estimators , max_features=num_features,  warm_start=False, random_state=0)\n",
    "Bagged_xy.fit(X_train, Y_xy_train)\n",
    "Y_xy_pred_test = Bagged_xy.predict(X_test)\n",
    "Y_xy_pred_train = Bagged_xy.predict(X_train)\n",
    "for i in range(0,len(Y_xy_pred_test)):\n",
    "    Y_xy_pred_test[i][0] = int(Y_xy_pred_test[i][0])\n",
    "    Y_xy_pred_test[i][1] = int(Y_xy_pred_test[i][1])\n",
    "    "
   ]
  },
  {
   "cell_type": "code",
   "execution_count": 37,
   "id": "03ab9b79",
   "metadata": {},
   "outputs": [
    {
     "name": "stdout",
     "output_type": "stream",
     "text": [
      "X_Y TEST Accuracy is 52.64 % in threshold 40\n",
      "X_Y TEST RSME is  48.77377774957771\n"
     ]
    }
   ],
   "source": [
    "#x and y\n",
    "thre_test = 40\n",
    "accuracy_test = 0\n",
    "rsme_test = 0\n",
    "for i in range(0,len(Y_x_pred_test)):\n",
    "    rsme_test += (Y_x_pred_test[i]-Y_x_test[i])*(Y_x_pred_test[i]-Y_x_test[i]) + (Y_y_pred_test[i]-Y_y_test[i])*(Y_y_pred_test[i]-Y_y_test[i])\n",
    "    if abs(Y_x_pred_test[i]-Y_x_test[i]) <= thre_test and abs(Y_y_pred_test[i]-Y_y_test[i]) <= thre_test:\n",
    "        accuracy_test += 1\n",
    "accuracy_test = accuracy_test/len(Y_x_pred_test)*100\n",
    "rsme_test = math.sqrt(rsme_test / len(Y_x_pred_test) / 2)\n",
    "print(\"X_Y TEST Accuracy is %.2f\"%accuracy_test, \"% in threshold\",thre_test)\n",
    "print(\"X_Y TEST RSME is \",rsme_test)\n",
    "        "
   ]
  },
  {
   "cell_type": "code",
   "execution_count": 38,
   "id": "145e9c7c",
   "metadata": {},
   "outputs": [
    {
     "name": "stdout",
     "output_type": "stream",
     "text": [
      "XY TEST Accuracy is 49.30 % in threshold 40\n",
      "XY TEST RSME is  48.41151934213463\n"
     ]
    }
   ],
   "source": [
    "#xy\n",
    "thre_test = 40\n",
    "accuracy_test = 0\n",
    "rsme_test = 0\n",
    "for i in range(0,len(Y_xy_pred_test)):\n",
    "    rsme_test += (Y_xy_pred_test[i][0]-Y_xy_test[i][0])*(Y_xy_pred_test[i][0]-Y_xy_test[i][0]) + (Y_xy_pred_test[i][1]-Y_xy_test[i][1])*(Y_xy_pred_test[i][1]-Y_xy_test[i][1])\n",
    "    if abs(Y_xy_pred_test[i][0]-Y_xy_test[i][0]) <= thre_test and abs(Y_xy_pred_test[i][1]-Y_xy_test[i][1]) <= thre_test:\n",
    "        accuracy_test += 1\n",
    "accuracy_test = accuracy_test/len(Y_x_pred_test)*100\n",
    "rsme_test = math.sqrt(rsme_test / len(Y_x_pred_test) / 2)\n",
    "print(\"XY TEST Accuracy is %.2f\"%accuracy_test, \"% in threshold\",thre_test)\n",
    "print(\"XY TEST RSME is \",rsme_test)"
   ]
  },
  {
   "cell_type": "code",
   "execution_count": 39,
   "id": "36ccbf41",
   "metadata": {},
   "outputs": [
    {
     "name": "stdout",
     "output_type": "stream",
     "text": [
      "X_Y TRAIN Accuracy is 68.09 % in threshold 40\n",
      "X_Y TRAIN RSME is  39.386500300551106\n"
     ]
    }
   ],
   "source": [
    "#x and y\n",
    "thre_train = 40\n",
    "accuracy_train = 0\n",
    "rsme_train = 0\n",
    "for i in range(0,len(Y_x_pred_train)):\n",
    "    rsme_train += (Y_x_pred_train[i]-Y_x_train[i])*(Y_x_pred_train[i]-Y_x_train[i]) + (Y_y_pred_train[i]-Y_y_train[i])*(Y_y_pred_train[i]-Y_y_train[i])\n",
    "    if abs(Y_x_pred_train[i]-Y_x_train[i]) <= thre_train and abs(Y_y_pred_train[i]-Y_y_train[i]) <= thre_train:\n",
    "        accuracy_train += 1\n",
    "accuracy_train = accuracy_train/len(Y_x_pred_train)*100\n",
    "rsme_train = math.sqrt(rsme_train / len(Y_x_pred_train) / 2)\n",
    "print(\"X_Y TRAIN Accuracy is %.2f\"%accuracy_train, \"% in threshold\",thre_train)\n",
    "print(\"X_Y TRAIN RSME is \",rsme_train)\n",
    "        "
   ]
  },
  {
   "cell_type": "code",
   "execution_count": 40,
   "id": "1de3dc78",
   "metadata": {},
   "outputs": [
    {
     "name": "stdout",
     "output_type": "stream",
     "text": [
      "XY TRAIN Accuracy is 64.69 % in threshold 40\n",
      "XY TRAIN RSME is  38.97938719430055\n"
     ]
    }
   ],
   "source": [
    "# xy\n",
    "thre_train = 40\n",
    "accuracy_train = 0\n",
    "rsme_train = 0\n",
    "for i in range(0,len(Y_xy_pred_train)):\n",
    "    rsme_train += (Y_xy_pred_train[i][0]-Y_xy_train[i][0])*(Y_xy_pred_train[i][0]-Y_xy_train[i][0]) + (Y_xy_pred_train[i][1]-Y_xy_train[i][1])*(Y_xy_pred_train[i][1]-Y_xy_train[i][1])\n",
    "    if abs(Y_xy_pred_train[i][0]-Y_xy_train[i][0]) <= thre_train and abs(Y_xy_pred_train[i][1]-Y_xy_train[i][1]) <= thre_train:\n",
    "        accuracy_train += 1\n",
    "accuracy_train = accuracy_train/len(Y_x_pred_train)*100\n",
    "rsme_train = math.sqrt(rsme_train / len(Y_x_pred_train) / 2)\n",
    "print(\"XY TRAIN Accuracy is %.2f\"%accuracy_train, \"% in threshold\",thre_train)\n",
    "print(\"XY TRAIN RSME is \",rsme_train)\n",
    "        "
   ]
  },
  {
   "cell_type": "code",
   "execution_count": 41,
   "id": "0995b267",
   "metadata": {},
   "outputs": [
    {
     "name": "stdout",
     "output_type": "stream",
     "text": [
      "Region TRAIN Accuracy is 79.78 %\n",
      "Region TEST Accuracy is 66.57 %\n"
     ]
    }
   ],
   "source": [
    "accuracy_test = 0\n",
    "accuracy_train = 0\n",
    "\n",
    "for i in range(0,len(Y_region_pred_train)):\n",
    "    if Y_region_pred_train[i] == Y_region_train[i]:\n",
    "        accuracy_train += 1\n",
    "accuracy_train = accuracy_train/len(Y_region_pred_train)*100\n",
    "\n",
    "for i in range(0,len(Y_region_pred_test)):\n",
    "    if Y_region_pred_test[i] == Y_region_test[i]:\n",
    "        accuracy_test += 1\n",
    "accuracy_test = accuracy_test/len(Y_region_pred_test)*100\n",
    "\n",
    "print(\"Region TRAIN Accuracy is %.2f\"%accuracy_train, \"%\")\n",
    "print(\"Region TEST Accuracy is %.2f\"%accuracy_test, \"%\")"
   ]
  },
  {
   "cell_type": "code",
   "execution_count": 42,
   "id": "80b2d1e8",
   "metadata": {},
   "outputs": [
    {
     "data": {
      "text/plain": [
       "['Bagged_region_4.model']"
      ]
     },
     "execution_count": 42,
     "metadata": {},
     "output_type": "execute_result"
    }
   ],
   "source": [
    "import joblib\n",
    "joblib.dump(Bagged_x, 'Bagged_x_4.model')\n",
    "joblib.dump(Bagged_y, 'Bagged_y_4.model')\n",
    "joblib.dump(Bagged_xy, 'Bagged_xy_4.model')\n",
    "joblib.dump(Bagged_region, 'Bagged_region_4.model')\n"
   ]
  },
  {
   "cell_type": "code",
   "execution_count": null,
   "id": "01ad3916",
   "metadata": {},
   "outputs": [],
   "source": []
  },
  {
   "cell_type": "code",
   "execution_count": null,
   "id": "ffafc883",
   "metadata": {},
   "outputs": [],
   "source": []
  }
 ],
 "metadata": {
  "kernelspec": {
   "display_name": "Python 3",
   "language": "python",
   "name": "python3"
  },
  "language_info": {
   "codemirror_mode": {
    "name": "ipython",
    "version": 3
   },
   "file_extension": ".py",
   "mimetype": "text/x-python",
   "name": "python",
   "nbconvert_exporter": "python",
   "pygments_lexer": "ipython3",
   "version": "3.8.8"
  }
 },
 "nbformat": 4,
 "nbformat_minor": 5
}
