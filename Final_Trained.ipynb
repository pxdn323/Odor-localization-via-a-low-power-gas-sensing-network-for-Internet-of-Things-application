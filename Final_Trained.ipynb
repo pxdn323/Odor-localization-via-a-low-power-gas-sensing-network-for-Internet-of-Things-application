{
 "cells": [
  {
   "cell_type": "code",
   "execution_count": 87,
   "id": "e660d250",
   "metadata": {},
   "outputs": [],
   "source": [
    "import pandas as pd\n",
    "import numpy as np\n",
    "from sklearn.model_selection import train_test_split\n",
    "import sklearn\n",
    "from sklearn.ensemble import BaggingRegressor\n",
    "from sklearn.ensemble import BaggingClassifier\n",
    "import matplotlib.pyplot as plt\n",
    "from matplotlib.pyplot import figure\n",
    "import math\n",
    "import joblib\n",
    "import time\n",
    "from sklearn import preprocessing"
   ]
  },
  {
   "cell_type": "code",
   "execution_count": 88,
   "id": "abdab3b8",
   "metadata": {},
   "outputs": [],
   "source": [
    "#Parameters initial\n",
    "REGION = 25\n",
    "NUM_estimators = [50]#[1,5,10,15,20,25,30,40,45,50,55,60,65,70,75,80,85,90,95,100,105,110,115,120,125,130,135,140,145,150]\n",
    "num_features = 3\n"
   ]
  },
  {
   "cell_type": "code",
   "execution_count": 89,
   "id": "c8259629",
   "metadata": {},
   "outputs": [],
   "source": [
    "#Read in file\n",
    "file = pd.read_csv('con_1.csv',header = None)\n",
    "feature_names = ['sensor1','sensor2','sensor3','Region','Location_x','Location_y','time']\n",
    "file.columns = feature_names"
   ]
  },
  {
   "cell_type": "code",
   "execution_count": 90,
   "id": "f7583d07",
   "metadata": {},
   "outputs": [],
   "source": [
    "##devide to four regions\n",
    "def region_4(Y_x,Y_y):\n",
    "    y_region = []\n",
    "    for i in range (0,len(Y_y)):\n",
    "        if Y_x[i] <= 115 and Y_y[i]<=115:\n",
    "            y_region.append(0)\n",
    "        if Y_x[i] <= 115 and Y_y[i]>115:\n",
    "            y_region.append(1)\n",
    "        if Y_x[i] > 115 and Y_y[i]<=115:\n",
    "            y_region.append(2)\n",
    "        if Y_x[i] > 115 and Y_y[i]>115:\n",
    "            y_region.append(3)\n",
    "    return y_region"
   ]
  },
  {
   "cell_type": "code",
   "execution_count": 91,
   "id": "fec3e17e",
   "metadata": {},
   "outputs": [],
   "source": [
    "#feature & labels\n",
    "Y_region = file['Region']\n",
    "Y_region = [int(i) for i in Y_region]\n",
    "Y_y = file['Location_y'].values\n",
    "Y_x = file['Location_x'].values\n",
    "X = file[['sensor1','sensor2','sensor3']].values\n",
    "if REGION == 4:\n",
    "    Y_region = region_4(Y_x,Y_y)\n",
    "\n",
    "# Random spliting by 70%/30%\n",
    "(X_train,X_test,Y_region_train,Y_region_test)=train_test_split(X, Y_region,test_size=0.3)   \n"
   ]
  },
  {
   "cell_type": "code",
   "execution_count": 92,
   "id": "cddd8f5d",
   "metadata": {},
   "outputs": [
    {
     "name": "stdout",
     "output_type": "stream",
     "text": [
      "Region TRAIN Accuracy is 69.48 %\n",
      "Region TEST Accuracy is 49.99 %\n"
     ]
    }
   ],
   "source": [
    "Tr_acc = []\n",
    "Te_acc = []\n",
    "for num_estimators in NUM_estimators:\n",
    "    \n",
    "    #fit into model\n",
    "    Bagged_region = BaggingClassifier(n_estimators=num_estimators ,max_features=num_features,  warm_start=False, random_state=0)\n",
    "    Bagged_region.fit(X_train, Y_region_train)\n",
    "\n",
    "    #testing\n",
    "    Y_region_pred_test = Bagged_region.predict(X_test)\n",
    "    Y_region_pred_test= [int (i) for i in Y_region_pred_test]\n",
    "\n",
    "    Y_region_pred_train = Bagged_region.predict(X_train)\n",
    "    Y_region_pred_train= [int (i) for i in Y_region_pred_train]\n",
    "\n",
    "    accuracy_test = 0\n",
    "    accuracy_train = 0\n",
    "\n",
    "    #Calculate for accuracy\n",
    "    for i in range(0,len(Y_region_pred_train)):\n",
    "        if Y_region_pred_train[i] == Y_region_train[i]:\n",
    "            accuracy_train += 1\n",
    "    accuracy_train = accuracy_train/len(Y_region_pred_train)*100\n",
    "\n",
    "    for i in range(0,len(Y_region_pred_test)):\n",
    "        if Y_region_pred_test[i] == Y_region_test[i]:\n",
    "            accuracy_test += 1\n",
    "    accuracy_test = accuracy_test/len(Y_region_pred_test)*100\n",
    "\n",
    "    print(\"Region TRAIN Accuracy is %.2f\"%accuracy_train, \"%\")\n",
    "    print(\"Region TEST Accuracy is %.2f\"%accuracy_test, \"%\")\n",
    "    \n",
    "    \n",
    "    Tr_acc.append(accuracy_train)\n",
    "    Te_acc.append(accuracy_test)"
   ]
  },
  {
   "cell_type": "code",
   "execution_count": 93,
   "id": "0995b267",
   "metadata": {},
   "outputs": [],
   "source": [
    "#Tuning for num_estimators\n",
    "#Tr_acc = np.array(Tr_acc)\n",
    "#Te_acc = np.array(Te_acc)\n",
    "#NUM_estimators = np.array(NUM_estimators)\n",
    "#plt.plot(NUM_estimators.reshape(30,1),Tr_acc.reshape(30,1),label='Train')\n",
    "#plt.plot(NUM_estimators.reshape(30,1),Te_acc.reshape(30,1),label='Test')\n",
    "#plt.show()"
   ]
  },
  {
   "cell_type": "code",
   "execution_count": 94,
   "id": "f390af2c",
   "metadata": {},
   "outputs": [
    {
     "data": {
      "text/plain": [
       "['Bagged_region_25.model']"
      ]
     },
     "execution_count": 94,
     "metadata": {},
     "output_type": "execute_result"
    }
   ],
   "source": [
    "#save model\n",
    "joblib.dump(Bagged_region, 'Bagged_region_25.model')\n"
   ]
  },
  {
   "cell_type": "code",
   "execution_count": null,
   "id": "01ad3916",
   "metadata": {},
   "outputs": [],
   "source": []
  },
  {
   "cell_type": "code",
   "execution_count": null,
   "id": "ffafc883",
   "metadata": {},
   "outputs": [],
   "source": []
  },
  {
   "cell_type": "code",
   "execution_count": null,
   "id": "5abff863",
   "metadata": {},
   "outputs": [],
   "source": []
  }
 ],
 "metadata": {
  "kernelspec": {
   "display_name": "Python 3",
   "language": "python",
   "name": "python3"
  },
  "language_info": {
   "codemirror_mode": {
    "name": "ipython",
    "version": 3
   },
   "file_extension": ".py",
   "mimetype": "text/x-python",
   "name": "python",
   "nbconvert_exporter": "python",
   "pygments_lexer": "ipython3",
   "version": "3.8.8"
  }
 },
 "nbformat": 4,
 "nbformat_minor": 5
}
