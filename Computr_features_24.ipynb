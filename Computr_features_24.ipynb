{
 "cells": [
  {
   "cell_type": "code",
   "execution_count": 65,
   "id": "e0b0caa4",
   "metadata": {},
   "outputs": [],
   "source": [
    "import csv\n",
    "import statistics as stat\n",
    "from scipy.signal import find_peaks\n",
    "import os\n"
   ]
  },
  {
   "cell_type": "code",
   "execution_count": 66,
   "id": "201aa8be",
   "metadata": {},
   "outputs": [],
   "source": [
    "#####Think about the characteristics for machine learning\n",
    "#####add functions below"
   ]
  },
  {
   "cell_type": "code",
   "execution_count": 67,
   "id": "57188aa2",
   "metadata": {},
   "outputs": [],
   "source": [
    "def Find_uuid_data_and_time(f):#####  find uuid of thingy\n",
    "    data = []\n",
    "    time = []\n",
    "    for row in f.readlines():\n",
    "        if 'uuid' in row:\n",
    "            uuid = row.split()[1].split('\"')[3]\n",
    "        if 'TVOC' in row:\n",
    "            data.append(int(row.split(',')[1]))\n",
    "            time.append(row.split(',')[2].replace('\\n', ''))\n",
    "    return uuid,data,time"
   ]
  },
  {
   "cell_type": "code",
   "execution_count": 68,
   "id": "54de7f08",
   "metadata": {},
   "outputs": [],
   "source": [
    "def devide(data,time,start_time):\n",
    "    flag = 0\n",
    "    count = -1\n",
    "    count_dev = 0\n",
    "    data_dev = [[],[],[],[]]\n",
    "    time_dev = [[],[],[],[]]\n",
    "    start_time = start_time.split(':')\n",
    "    start_time = int(start_time[-1])+int(start_time[-2])*60+int(start_time[-3])*3600\n",
    "    for t in time:\n",
    "        count += 1\n",
    "        if flag == 0:\n",
    "            flag = 1\n",
    "            data_dev[count_dev].append(data[count])\n",
    "            time_dev[count_dev].append(int(time[count].split(':')[-1])+int(time[count].split(':')[-2])*60+int(time[count].split(':')[-3])*3600-start_time)\n",
    "        else:\n",
    "            B=t.split(':')\n",
    "            B = int(B[-1])+int(B[-2])*60+int(B[-3])*3600\n",
    "            if B - start_time > 300*(count_dev+1) or count == len(time)-1:\n",
    "                flag = 0\n",
    "                count_dev += 1\n",
    "                if count_dev == 4:\n",
    "                    break\n",
    "                continue\n",
    "            else :\n",
    "                data_dev[count_dev].append(data[count])\n",
    "                time_dev[count_dev].append(int(time[count].split(':')[-1])+int(time[count].split(':')[-2])*60+int(time[count].split(':')[-3])*3600-start_time)         \n",
    "   \n",
    "    return data_dev,time_dev"
   ]
  },
  {
   "cell_type": "code",
   "execution_count": 69,
   "id": "383e8f54",
   "metadata": {},
   "outputs": [],
   "source": [
    "def Find_max_min_avg_median(data):\n",
    "    dmax = max(map(int,data))\n",
    "    dmin = min(map(int,data))\n",
    "    davg = (dmax+dmin)/2\n",
    "    dmedian = stat.median(map(int,data))\n",
    "    return dmax,dmin,davg,dmedian"
   ]
  },
  {
   "cell_type": "code",
   "execution_count": 70,
   "id": "6e8835ce",
   "metadata": {},
   "outputs": [],
   "source": [
    "def Find_time(value,data,time):\n",
    "    timevalue = []\n",
    "    timelist = []\n",
    "    for i in range(len(value)):\n",
    "        for j in range(len(data)):\n",
    "            if data[j] == value[i]:\n",
    "                timevalue.append(time[j])\n",
    "        timelist.append(timevalue)\n",
    "    return timelist"
   ]
  },
  {
   "cell_type": "code",
   "execution_count": 71,
   "id": "2b59b2d6",
   "metadata": {},
   "outputs": [],
   "source": [
    "def Find_var(data):  ## find variance\n",
    "    var = stat.pvariance(map(int,data))\n",
    "    return var"
   ]
  },
  {
   "cell_type": "code",
   "execution_count": 72,
   "id": "029ad4d5",
   "metadata": {},
   "outputs": [],
   "source": [
    "def Find_time_interval(timeA,timeB):\n",
    "    A=timeA.split(':')\n",
    "    B=timeB.split(':')\n",
    "    A = int(A[-1])+int(A[-2])*60+int(A[-3])*3600\n",
    "    B = int(B[-1])+int(B[-2])*60+int(B[-3])*3600  \n",
    "    if(A>B):\n",
    "        interval = A-B\n",
    "    else:\n",
    "        interval = B-A\n",
    "    return interval"
   ]
  },
  {
   "cell_type": "code",
   "execution_count": 73,
   "id": "5fb0e562",
   "metadata": {},
   "outputs": [],
   "source": [
    "## find no of peaks, their value and time(even though multiple peaks should not happen)\n",
    "def Find_peaks_and_prominence(data,time,davg):## use avg to decide is not good, need better way\n",
    "    peak_id,peaks_property = find_peaks(data,height = davg,threshold = None, distance = 50, prominence = davg/2, width =10, wlen = None,rel_height =0.5, plateau_size = None)\n",
    "    value = 0\n",
    "    timelist = 0\n",
    "    prominence = 0\n",
    "    for i in range(len(peak_id)):\n",
    "        if data[peak_id[i]] > value:\n",
    "            value = data[peak_id[i]]\n",
    "            timelist = time[peak_id[i]]\n",
    "            prominence = peaks_property[\"prominences\"][i]\n",
    "    \n",
    "    return value,timelist,prominence"
   ]
  },
  {
   "cell_type": "code",
   "execution_count": 74,
   "id": "2f3dbacf",
   "metadata": {},
   "outputs": [],
   "source": [
    "\n",
    "def Find_char(filename,start_time):\n",
    "    with open(filename, 'r') as f:\n",
    "        uuid,data,time = Find_uuid_data_and_time(f)\n",
    "        #data,time = data_and_time(f)\n",
    "    #data,time = data_manipulation(data,time)\n",
    "    #print(data)\n",
    "    data_dev, time_dev = devide(data,time,start_time)\n",
    "   # print(uuid,data_dev, time_dev)\n",
    "    dmax = [0] * 4\n",
    "    dmin = [0] * 4\n",
    "    davg = [0] * 4\n",
    "    dmedian = [0] * 4\n",
    "    peak_values= [0] * 4\n",
    "    peak_times= [0] * 4\n",
    "    prominence= [0] * 4\n",
    "    dvar = [0] * 4\n",
    "    for i in range(0,4):\n",
    "        \n",
    "        dmax[i],dmin[i],davg[i],dmedian[i] = Find_max_min_avg_median(data_dev[i])\n",
    "        peak_values[i],peak_times[i],prominence[i] = Find_peaks_and_prominence(data_dev[i],time_dev[i],davg[i])\n",
    "        dvar[i] = Find_var(data_dev[i])\n",
    "    #interval = Find_time_interval(time[0],time[-1])\n",
    "    #get region\n",
    "    region = filename.split('/')[2]\n",
    "    location_x = filename.split('/')[3].split('_')[2]\n",
    "    location_y = filename.split('/')[3].split('_')[3]\n",
    "    f.close\n",
    "    export(uuid,dmax,dmin,davg,dmedian,peak_values,peak_times,prominence,dvar,region,location_x,location_y)\n",
    "    #return uuid,dmax,dmin,davg,dmedian,peaks_num,peak_values,peak_times,prominence,dvar,region,location\n"
   ]
  },
  {
   "cell_type": "code",
   "execution_count": 75,
   "id": "d5cda94c",
   "metadata": {},
   "outputs": [],
   "source": [
    "\n",
    "def export(uuid,dmax,dmin,davg,dmedian,peak_values,peak_times,prominence,dvar,region,location_x,location_y):\n",
    "    with open('all_1.csv', mode='a',newline='') as overall_file:\n",
    "        fieldnames = ['sensor',\n",
    "                      'dmax','dmin','davg','dmedian','peak_values','peak_times','prominence','dvar',\n",
    "                      'Region','Location_x','Location_y','period']\n",
    "        writer = csv.DictWriter(overall_file, fieldnames=fieldnames)\n",
    "        for i in range(0,4):\n",
    "            writer.writerow({'sensor':uuid,\n",
    "                         'dmax':dmax[i],'dmin':dmin[i],'davg':davg[i],'dmedian':dmedian[i],\n",
    "                         'peak_values':peak_values[i],'peak_times':peak_times[i],'prominence':prominence[i],'dvar':dvar[i],\n",
    "                         'Region':region,'Location_x':location_x,'Location_y':location_y,'period': i })\n",
    "    overall_file.close\n",
    "    return   "
   ]
  },
  {
   "cell_type": "code",
   "execution_count": 76,
   "id": "04aed96f",
   "metadata": {},
   "outputs": [],
   "source": [
    "#read all files\n",
    "def read_all_files(directory):\n",
    "    entries = os.listdir(directory)\n",
    "\n",
    "\n",
    "    for foldernames in entries:\n",
    "        subfolder = os.listdir(directory+'/'+ str(foldernames))\n",
    "        print(foldernames)\n",
    "        for subfoldernames in subfolder:\n",
    "            files= os.listdir(directory+'/'+ str(foldernames)+'/'+ str(subfoldernames))\n",
    "            flag = 0\n",
    "            for filenames in files:\n",
    "                if flag == 0:\n",
    "                    with open (directory+'/'+ str(foldernames)+'/'+ str(subfoldernames)+'/'+str(filenames),'r') as f:\n",
    "                        uuid, data, time = Find_uuid_data_and_time(f)\n",
    "                    start_time = time [0]\n",
    "                    flag = 1\n",
    "                    f.close\n",
    "                    \n",
    "                Find_char(directory+'/'+ str(foldernames)+'/'+ str(subfoldernames)+'/'+str(filenames),start_time)\n",
    "\n",
    "    return\n",
    "    "
   ]
  },
  {
   "cell_type": "code",
   "execution_count": 84,
   "id": "792c2194",
   "metadata": {},
   "outputs": [],
   "source": [
    "def modify(filename):\n",
    "    new_row_0 =[0]*31\n",
    "    new_row_1 =[0]*31\n",
    "    new_row_2 =[0]*31\n",
    "    new_row_3 =[0]*31\n",
    "    with open(filename,'r')as f1:\n",
    "        with open('all_2.csv', mode='a',newline='') as csvfile:\n",
    "            writer = csv.writer(csvfile, delimiter=',')\n",
    "            flag_0 = 0\n",
    "            flag_1 = 0\n",
    "            flag_2 = 0\n",
    "            for row in f1.readlines():\n",
    "                uuid = row.split(',')[0]\n",
    "                if uuid == 'e2c84430970e':\n",
    "                    if flag_0 == 0:\n",
    "                        new_row_0[0:9] = row.split(',')[0:9]\n",
    "                    if flag_0 == 1:\n",
    "                        new_row_1[0:9] = row.split(',')[0:9]\n",
    "                    if flag_0 == 2:\n",
    "                        new_row_2[0:9] = row.split(',')[0:9]\n",
    "                    if flag_0 == 3:\n",
    "                        new_row_3[0:9] = row.split(',')[0:9]\n",
    "                    flag_0 += 1\n",
    "                elif uuid == 'e062039dd423':\n",
    "                    if flag_1 == 0:\n",
    "                        new_row_0[9:18] = row.split(',')[0:9]\n",
    "                    if flag_1 == 1:\n",
    "                        new_row_1[9:18] = row.split(',')[0:9]\n",
    "                    if flag_1 == 2:\n",
    "                        new_row_2[9:18] = row.split(',')[0:9]\n",
    "                    if flag_1 == 3:\n",
    "                        new_row_3[9:18] = row.split(',')[0:9]\n",
    "                    flag_1 += 1\n",
    "                else:\n",
    "                    if flag_2 == 0: \n",
    "                        new_row_0[18:30] = row.split(',')[0:12]\n",
    "                        new_row_0[30] = int(row.split(',')[12])\n",
    "                    if flag_2 == 1: \n",
    "                        new_row_1[18:30] = row.split(',')[0:12]\n",
    "                        new_row_1[30] = int(row.split(',')[12])\n",
    "                    if flag_2 == 2: \n",
    "                        new_row_2[18:30] = row.split(',')[0:12]\n",
    "                        new_row_2[30] = int(row.split(',')[12])\n",
    "                    if flag_2 == 3: \n",
    "                        new_row_3[18:30] = row.split(',')[0:12]\n",
    "                        new_row_3[30] = int(row.split(',')[12])\n",
    "                    flag_2 += 1\n",
    "                if flag_0 == 4 and flag_1 == 4 and flag_2 == 4 :\n",
    "                    flag_0 = 0\n",
    "                    flag_1 = 0\n",
    "                    flag_2 = 0\n",
    "                    writer.writerow(new_row_0)\n",
    "                    writer.writerow(new_row_1)\n",
    "                    writer.writerow(new_row_2)\n",
    "                    writer.writerow(new_row_3)\n",
    "                    new_row_0 =[0]*31\n",
    "                    new_row_1 =[0]*31\n",
    "                    new_row_2 =[0]*31\n",
    "                    new_row_3 =[0]*31\n",
    "        csvfile.close\n",
    "    f1.close\n",
    "    return"
   ]
  },
  {
   "cell_type": "code",
   "execution_count": 82,
   "id": "585f6e13",
   "metadata": {},
   "outputs": [
    {
     "name": "stdout",
     "output_type": "stream",
     "text": [
      "Region 1\n"
     ]
    },
    {
     "ename": "PermissionError",
     "evalue": "[Errno 13] Permission denied: 'all_1.csv'",
     "output_type": "error",
     "traceback": [
      "\u001b[1;31m---------------------------------------------------------------------------\u001b[0m",
      "\u001b[1;31mPermissionError\u001b[0m                           Traceback (most recent call last)",
      "\u001b[1;32m<ipython-input-82-dc7f35faba12>\u001b[0m in \u001b[0;36m<module>\u001b[1;34m\u001b[0m\n\u001b[1;32m----> 1\u001b[1;33m \u001b[0mread_all_files\u001b[0m\u001b[1;33m(\u001b[0m\u001b[1;34m\"./DATA\"\u001b[0m\u001b[1;33m)\u001b[0m\u001b[1;33m\u001b[0m\u001b[1;33m\u001b[0m\u001b[0m\n\u001b[0m",
      "\u001b[1;32m<ipython-input-76-4eeca989a90c>\u001b[0m in \u001b[0;36mread_all_files\u001b[1;34m(directory)\u001b[0m\n\u001b[0;32m     18\u001b[0m                     \u001b[0mf\u001b[0m\u001b[1;33m.\u001b[0m\u001b[0mclose\u001b[0m\u001b[1;33m\u001b[0m\u001b[1;33m\u001b[0m\u001b[0m\n\u001b[0;32m     19\u001b[0m \u001b[1;33m\u001b[0m\u001b[0m\n\u001b[1;32m---> 20\u001b[1;33m                 \u001b[0mFind_char\u001b[0m\u001b[1;33m(\u001b[0m\u001b[0mdirectory\u001b[0m\u001b[1;33m+\u001b[0m\u001b[1;34m'/'\u001b[0m\u001b[1;33m+\u001b[0m \u001b[0mstr\u001b[0m\u001b[1;33m(\u001b[0m\u001b[0mfoldernames\u001b[0m\u001b[1;33m)\u001b[0m\u001b[1;33m+\u001b[0m\u001b[1;34m'/'\u001b[0m\u001b[1;33m+\u001b[0m \u001b[0mstr\u001b[0m\u001b[1;33m(\u001b[0m\u001b[0msubfoldernames\u001b[0m\u001b[1;33m)\u001b[0m\u001b[1;33m+\u001b[0m\u001b[1;34m'/'\u001b[0m\u001b[1;33m+\u001b[0m\u001b[0mstr\u001b[0m\u001b[1;33m(\u001b[0m\u001b[0mfilenames\u001b[0m\u001b[1;33m)\u001b[0m\u001b[1;33m,\u001b[0m\u001b[0mstart_time\u001b[0m\u001b[1;33m)\u001b[0m\u001b[1;33m\u001b[0m\u001b[1;33m\u001b[0m\u001b[0m\n\u001b[0m\u001b[0;32m     21\u001b[0m \u001b[1;33m\u001b[0m\u001b[0m\n\u001b[0;32m     22\u001b[0m     \u001b[1;32mreturn\u001b[0m\u001b[1;33m\u001b[0m\u001b[1;33m\u001b[0m\u001b[0m\n",
      "\u001b[1;32m<ipython-input-74-dd70f8b5c144>\u001b[0m in \u001b[0;36mFind_char\u001b[1;34m(filename, start_time)\u001b[0m\n\u001b[0;32m     26\u001b[0m     \u001b[0mlocation_y\u001b[0m \u001b[1;33m=\u001b[0m \u001b[0mfilename\u001b[0m\u001b[1;33m.\u001b[0m\u001b[0msplit\u001b[0m\u001b[1;33m(\u001b[0m\u001b[1;34m'/'\u001b[0m\u001b[1;33m)\u001b[0m\u001b[1;33m[\u001b[0m\u001b[1;36m3\u001b[0m\u001b[1;33m]\u001b[0m\u001b[1;33m.\u001b[0m\u001b[0msplit\u001b[0m\u001b[1;33m(\u001b[0m\u001b[1;34m'_'\u001b[0m\u001b[1;33m)\u001b[0m\u001b[1;33m[\u001b[0m\u001b[1;36m3\u001b[0m\u001b[1;33m]\u001b[0m\u001b[1;33m\u001b[0m\u001b[1;33m\u001b[0m\u001b[0m\n\u001b[0;32m     27\u001b[0m     \u001b[0mf\u001b[0m\u001b[1;33m.\u001b[0m\u001b[0mclose\u001b[0m\u001b[1;33m\u001b[0m\u001b[1;33m\u001b[0m\u001b[0m\n\u001b[1;32m---> 28\u001b[1;33m     \u001b[0mexport\u001b[0m\u001b[1;33m(\u001b[0m\u001b[0muuid\u001b[0m\u001b[1;33m,\u001b[0m\u001b[0mdmax\u001b[0m\u001b[1;33m,\u001b[0m\u001b[0mdmin\u001b[0m\u001b[1;33m,\u001b[0m\u001b[0mdavg\u001b[0m\u001b[1;33m,\u001b[0m\u001b[0mdmedian\u001b[0m\u001b[1;33m,\u001b[0m\u001b[0mpeak_values\u001b[0m\u001b[1;33m,\u001b[0m\u001b[0mpeak_times\u001b[0m\u001b[1;33m,\u001b[0m\u001b[0mprominence\u001b[0m\u001b[1;33m,\u001b[0m\u001b[0mdvar\u001b[0m\u001b[1;33m,\u001b[0m\u001b[0mregion\u001b[0m\u001b[1;33m,\u001b[0m\u001b[0mlocation_x\u001b[0m\u001b[1;33m,\u001b[0m\u001b[0mlocation_y\u001b[0m\u001b[1;33m)\u001b[0m\u001b[1;33m\u001b[0m\u001b[1;33m\u001b[0m\u001b[0m\n\u001b[0m\u001b[0;32m     29\u001b[0m     \u001b[1;31m#return uuid,dmax,dmin,davg,dmedian,peaks_num,peak_values,peak_times,prominence,dvar,region,location\u001b[0m\u001b[1;33m\u001b[0m\u001b[1;33m\u001b[0m\u001b[1;33m\u001b[0m\u001b[0m\n",
      "\u001b[1;32m<ipython-input-75-5c053fba9bff>\u001b[0m in \u001b[0;36mexport\u001b[1;34m(uuid, dmax, dmin, davg, dmedian, peak_values, peak_times, prominence, dvar, region, location_x, location_y)\u001b[0m\n\u001b[0;32m      1\u001b[0m \u001b[1;32mdef\u001b[0m \u001b[0mexport\u001b[0m\u001b[1;33m(\u001b[0m\u001b[0muuid\u001b[0m\u001b[1;33m,\u001b[0m\u001b[0mdmax\u001b[0m\u001b[1;33m,\u001b[0m\u001b[0mdmin\u001b[0m\u001b[1;33m,\u001b[0m\u001b[0mdavg\u001b[0m\u001b[1;33m,\u001b[0m\u001b[0mdmedian\u001b[0m\u001b[1;33m,\u001b[0m\u001b[0mpeak_values\u001b[0m\u001b[1;33m,\u001b[0m\u001b[0mpeak_times\u001b[0m\u001b[1;33m,\u001b[0m\u001b[0mprominence\u001b[0m\u001b[1;33m,\u001b[0m\u001b[0mdvar\u001b[0m\u001b[1;33m,\u001b[0m\u001b[0mregion\u001b[0m\u001b[1;33m,\u001b[0m\u001b[0mlocation_x\u001b[0m\u001b[1;33m,\u001b[0m\u001b[0mlocation_y\u001b[0m\u001b[1;33m)\u001b[0m\u001b[1;33m:\u001b[0m\u001b[1;33m\u001b[0m\u001b[1;33m\u001b[0m\u001b[0m\n\u001b[1;32m----> 2\u001b[1;33m     \u001b[1;32mwith\u001b[0m \u001b[0mopen\u001b[0m\u001b[1;33m(\u001b[0m\u001b[1;34m'all_1.csv'\u001b[0m\u001b[1;33m,\u001b[0m \u001b[0mmode\u001b[0m\u001b[1;33m=\u001b[0m\u001b[1;34m'a'\u001b[0m\u001b[1;33m,\u001b[0m\u001b[0mnewline\u001b[0m\u001b[1;33m=\u001b[0m\u001b[1;34m''\u001b[0m\u001b[1;33m)\u001b[0m \u001b[1;32mas\u001b[0m \u001b[0moverall_file\u001b[0m\u001b[1;33m:\u001b[0m\u001b[1;33m\u001b[0m\u001b[1;33m\u001b[0m\u001b[0m\n\u001b[0m\u001b[0;32m      3\u001b[0m         fieldnames = ['sensor',\n\u001b[0;32m      4\u001b[0m                       \u001b[1;34m'dmax'\u001b[0m\u001b[1;33m,\u001b[0m\u001b[1;34m'dmin'\u001b[0m\u001b[1;33m,\u001b[0m\u001b[1;34m'davg'\u001b[0m\u001b[1;33m,\u001b[0m\u001b[1;34m'dmedian'\u001b[0m\u001b[1;33m,\u001b[0m\u001b[1;34m'peak_values'\u001b[0m\u001b[1;33m,\u001b[0m\u001b[1;34m'peak_times'\u001b[0m\u001b[1;33m,\u001b[0m\u001b[1;34m'prominence'\u001b[0m\u001b[1;33m,\u001b[0m\u001b[1;34m'dvar'\u001b[0m\u001b[1;33m,\u001b[0m\u001b[1;33m\u001b[0m\u001b[1;33m\u001b[0m\u001b[0m\n\u001b[0;32m      5\u001b[0m                       'Region','Location_x','Location_y','period']\n",
      "\u001b[1;31mPermissionError\u001b[0m: [Errno 13] Permission denied: 'all_1.csv'"
     ]
    }
   ],
   "source": [
    "read_all_files(\"./DATA\")"
   ]
  },
  {
   "cell_type": "code",
   "execution_count": 85,
   "id": "09633bf3",
   "metadata": {},
   "outputs": [],
   "source": [
    "modify('all_1.csv')"
   ]
  },
  {
   "cell_type": "code",
   "execution_count": null,
   "id": "8de4ed6c",
   "metadata": {},
   "outputs": [],
   "source": []
  }
 ],
 "metadata": {
  "kernelspec": {
   "display_name": "Python 3",
   "language": "python",
   "name": "python3"
  },
  "language_info": {
   "codemirror_mode": {
    "name": "ipython",
    "version": 3
   },
   "file_extension": ".py",
   "mimetype": "text/x-python",
   "name": "python",
   "nbconvert_exporter": "python",
   "pygments_lexer": "ipython3",
   "version": "3.8.8"
  }
 },
 "nbformat": 4,
 "nbformat_minor": 5
}
